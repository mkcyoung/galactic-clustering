{
  "nbformat": 4,
  "nbformat_minor": 0,
  "metadata": {
    "kernelspec": {
      "name": "python3",
      "display_name": "Python 3"
    },
    "language_info": {
      "codemirror_mode": {
        "name": "ipython",
        "version": 3
      },
      "file_extension": ".py",
      "mimetype": "text/x-python",
      "name": "python",
      "nbconvert_exporter": "python",
      "pygments_lexer": "ipython3",
      "version": "3.8.1"
    },
    "colab": {
      "name": "Gal_Net.ipynb",
      "provenance": [],
      "collapsed_sections": [],
      "toc_visible": true,
      "include_colab_link": true
    },
    "accelerator": "GPU",
    "widgets": {
      "application/vnd.jupyter.widget-state+json": {
        "d9e57a623b26472abae4e7f46a7f38fc": {
          "model_module": "@jupyter-widgets/controls",
          "model_name": "HBoxModel",
          "state": {
            "_view_name": "HBoxView",
            "_dom_classes": [],
            "_model_name": "HBoxModel",
            "_view_module": "@jupyter-widgets/controls",
            "_model_module_version": "1.5.0",
            "_view_count": null,
            "_view_module_version": "1.5.0",
            "box_style": "",
            "layout": "IPY_MODEL_4b2886fd8a8245a78cca25d0a98517d5",
            "_model_module": "@jupyter-widgets/controls",
            "children": [
              "IPY_MODEL_117e30ed41fd47a98ef7066243dbce01",
              "IPY_MODEL_92eee9c79284400f946e7d7566234d21"
            ]
          }
        },
        "4b2886fd8a8245a78cca25d0a98517d5": {
          "model_module": "@jupyter-widgets/base",
          "model_name": "LayoutModel",
          "state": {
            "_view_name": "LayoutView",
            "grid_template_rows": null,
            "right": null,
            "justify_content": null,
            "_view_module": "@jupyter-widgets/base",
            "overflow": null,
            "_model_module_version": "1.2.0",
            "_view_count": null,
            "flex_flow": null,
            "width": null,
            "min_width": null,
            "border": null,
            "align_items": null,
            "bottom": null,
            "_model_module": "@jupyter-widgets/base",
            "top": null,
            "grid_column": null,
            "overflow_y": null,
            "overflow_x": null,
            "grid_auto_flow": null,
            "grid_area": null,
            "grid_template_columns": null,
            "flex": null,
            "_model_name": "LayoutModel",
            "justify_items": null,
            "grid_row": null,
            "max_height": null,
            "align_content": null,
            "visibility": null,
            "align_self": null,
            "height": null,
            "min_height": null,
            "padding": null,
            "grid_auto_rows": null,
            "grid_gap": null,
            "max_width": null,
            "order": null,
            "_view_module_version": "1.2.0",
            "grid_template_areas": null,
            "object_position": null,
            "object_fit": null,
            "grid_auto_columns": null,
            "margin": null,
            "display": null,
            "left": null
          }
        },
        "117e30ed41fd47a98ef7066243dbce01": {
          "model_module": "@jupyter-widgets/controls",
          "model_name": "IntProgressModel",
          "state": {
            "_view_name": "ProgressView",
            "style": "IPY_MODEL_b0fe676db7d946a1a0cee57335c25bd2",
            "_dom_classes": [],
            "description": "100%",
            "_model_name": "IntProgressModel",
            "bar_style": "success",
            "max": 87306240,
            "_view_module": "@jupyter-widgets/controls",
            "_model_module_version": "1.5.0",
            "value": 87306240,
            "_view_count": null,
            "_view_module_version": "1.5.0",
            "orientation": "horizontal",
            "min": 0,
            "description_tooltip": null,
            "_model_module": "@jupyter-widgets/controls",
            "layout": "IPY_MODEL_d2dab2ca1cc64610a3b98a4e121c2d46"
          }
        },
        "92eee9c79284400f946e7d7566234d21": {
          "model_module": "@jupyter-widgets/controls",
          "model_name": "HTMLModel",
          "state": {
            "_view_name": "HTMLView",
            "style": "IPY_MODEL_6d0250b68f6c406e884e28e64c39924a",
            "_dom_classes": [],
            "description": "",
            "_model_name": "HTMLModel",
            "placeholder": "​",
            "_view_module": "@jupyter-widgets/controls",
            "_model_module_version": "1.5.0",
            "value": " 83.3M/83.3M [3:07:23&lt;00:00, 7.77kB/s]",
            "_view_count": null,
            "_view_module_version": "1.5.0",
            "description_tooltip": null,
            "_model_module": "@jupyter-widgets/controls",
            "layout": "IPY_MODEL_c7ae97979b6c44c39ec504766db3cbac"
          }
        },
        "b0fe676db7d946a1a0cee57335c25bd2": {
          "model_module": "@jupyter-widgets/controls",
          "model_name": "ProgressStyleModel",
          "state": {
            "_view_name": "StyleView",
            "_model_name": "ProgressStyleModel",
            "description_width": "initial",
            "_view_module": "@jupyter-widgets/base",
            "_model_module_version": "1.5.0",
            "_view_count": null,
            "_view_module_version": "1.2.0",
            "bar_color": null,
            "_model_module": "@jupyter-widgets/controls"
          }
        },
        "d2dab2ca1cc64610a3b98a4e121c2d46": {
          "model_module": "@jupyter-widgets/base",
          "model_name": "LayoutModel",
          "state": {
            "_view_name": "LayoutView",
            "grid_template_rows": null,
            "right": null,
            "justify_content": null,
            "_view_module": "@jupyter-widgets/base",
            "overflow": null,
            "_model_module_version": "1.2.0",
            "_view_count": null,
            "flex_flow": null,
            "width": null,
            "min_width": null,
            "border": null,
            "align_items": null,
            "bottom": null,
            "_model_module": "@jupyter-widgets/base",
            "top": null,
            "grid_column": null,
            "overflow_y": null,
            "overflow_x": null,
            "grid_auto_flow": null,
            "grid_area": null,
            "grid_template_columns": null,
            "flex": null,
            "_model_name": "LayoutModel",
            "justify_items": null,
            "grid_row": null,
            "max_height": null,
            "align_content": null,
            "visibility": null,
            "align_self": null,
            "height": null,
            "min_height": null,
            "padding": null,
            "grid_auto_rows": null,
            "grid_gap": null,
            "max_width": null,
            "order": null,
            "_view_module_version": "1.2.0",
            "grid_template_areas": null,
            "object_position": null,
            "object_fit": null,
            "grid_auto_columns": null,
            "margin": null,
            "display": null,
            "left": null
          }
        },
        "6d0250b68f6c406e884e28e64c39924a": {
          "model_module": "@jupyter-widgets/controls",
          "model_name": "DescriptionStyleModel",
          "state": {
            "_view_name": "StyleView",
            "_model_name": "DescriptionStyleModel",
            "description_width": "",
            "_view_module": "@jupyter-widgets/base",
            "_model_module_version": "1.5.0",
            "_view_count": null,
            "_view_module_version": "1.2.0",
            "_model_module": "@jupyter-widgets/controls"
          }
        },
        "c7ae97979b6c44c39ec504766db3cbac": {
          "model_module": "@jupyter-widgets/base",
          "model_name": "LayoutModel",
          "state": {
            "_view_name": "LayoutView",
            "grid_template_rows": null,
            "right": null,
            "justify_content": null,
            "_view_module": "@jupyter-widgets/base",
            "overflow": null,
            "_model_module_version": "1.2.0",
            "_view_count": null,
            "flex_flow": null,
            "width": null,
            "min_width": null,
            "border": null,
            "align_items": null,
            "bottom": null,
            "_model_module": "@jupyter-widgets/base",
            "top": null,
            "grid_column": null,
            "overflow_y": null,
            "overflow_x": null,
            "grid_auto_flow": null,
            "grid_area": null,
            "grid_template_columns": null,
            "flex": null,
            "_model_name": "LayoutModel",
            "justify_items": null,
            "grid_row": null,
            "max_height": null,
            "align_content": null,
            "visibility": null,
            "align_self": null,
            "height": null,
            "min_height": null,
            "padding": null,
            "grid_auto_rows": null,
            "grid_gap": null,
            "max_width": null,
            "order": null,
            "_view_module_version": "1.2.0",
            "grid_template_areas": null,
            "object_position": null,
            "object_fit": null,
            "grid_auto_columns": null,
            "margin": null,
            "display": null,
            "left": null
          }
        }
      }
    }
  },
  "cells": [
    {
      "cell_type": "markdown",
      "metadata": {
        "id": "view-in-github",
        "colab_type": "text"
      },
      "source": [
        "<a href=\"https://colab.research.google.com/github/mkcyoung/galactic-clustering/blob/main/Gal_Net.ipynb\" target=\"_parent\"><img src=\"https://colab.research.google.com/assets/colab-badge.svg\" alt=\"Open In Colab\"/></a>"
      ]
    },
    {
      "cell_type": "markdown",
      "metadata": {
        "id": "Q5DIZi-BU17j"
      },
      "source": [
        "# Galaxy CNN\n",
        "\n",
        "The goal of this notebook is to train a model to estimate the probability distribution of galaxy classifications on a large dataset of galaxy images. Following training, we aim to extract the output from one of the layers of the trained network and use it to represent the images so they can be clustered."
      ]
    },
    {
      "cell_type": "code",
      "metadata": {
        "id": "6FoLbQj2h2o6",
        "colab": {
          "base_uri": "https://localhost:8080/",
          "height": 122
        },
        "outputId": "98de68a0-5a8c-4ae3-b93b-032aa5dc40b8"
      },
      "source": [
        "from google.colab import drive\n",
        "drive.mount('/content/drive/',force_remount=True)"
      ],
      "execution_count": null,
      "outputs": [
        {
          "output_type": "stream",
          "text": [
            "Go to this URL in a browser: https://accounts.google.com/o/oauth2/auth?client_id=947318989803-6bn6qk8qdgf4n4g3pfee6491hc0brc4i.apps.googleusercontent.com&redirect_uri=urn%3aietf%3awg%3aoauth%3a2.0%3aoob&response_type=code&scope=email%20https%3a%2f%2fwww.googleapis.com%2fauth%2fdocs.test%20https%3a%2f%2fwww.googleapis.com%2fauth%2fdrive%20https%3a%2f%2fwww.googleapis.com%2fauth%2fdrive.photos.readonly%20https%3a%2f%2fwww.googleapis.com%2fauth%2fpeopleapi.readonly\n",
            "\n",
            "Enter your authorization code:\n",
            "··········\n",
            "Mounted at /content/drive/\n"
          ],
          "name": "stdout"
        }
      ]
    },
    {
      "cell_type": "code",
      "metadata": {
        "id": "fWcQVCwsiLlZ"
      },
      "source": [
        "# Transfering images to folder\n",
        "\n",
        "#!tar -C '/content/drive/My Drive/Colab Notebooks/data_mining_project/images_training_rev1/' -xvf '/content/drive/My Drive/Colab Notebooks/data_mining_project/images_training_rev1.tgz'\n",
        "\n",
        "#!unzip '/content/drive/My Drive/Colab Notebooks/data_mining_project/images_training_rev2.zip' -d '/content/drive/My Drive/Colab Notebooks/data_mining_project/'"
      ],
      "execution_count": null,
      "outputs": []
    },
    {
      "cell_type": "code",
      "metadata": {
        "id": "tj45tWl5U17m"
      },
      "source": [
        "# Followed this tutorial: https://pytorch.org/tutorials/beginner/data_loading_tutorial.html#\n",
        "# Also used code this: https://github.com/jimsiak/kaggle-galaxies-pytorch/blob/master/main.py\n",
        "\n",
        "from __future__ import print_function, division\n",
        "import os, time, copy, sys\n",
        "\n",
        "import torch\n",
        "import torch.nn as nn\n",
        "import torch.optim as optim\n",
        "from torch.optim import lr_scheduler\n",
        "\n",
        "import pandas as pd\n",
        "from skimage import io, transform\n",
        "import numpy as np\n",
        "import matplotlib.pyplot as plt\n",
        "\n",
        "from torch.utils.data import Dataset, DataLoader\n",
        "from torch.utils.data.sampler import SubsetRandomSampler\n",
        "\n",
        "from torchvision import transforms, utils\n",
        "import torchvision.models as models\n",
        "from torchvision import datasets\n",
        "\n",
        "from PIL import Image\n",
        "\n",
        "from sklearn.manifold import TSNE\n",
        "from sklearn.decomposition import PCA\n",
        "\n",
        "\n",
        "# Ignore warnings\n",
        "import warnings\n",
        "warnings.filterwarnings(\"ignore\")\n",
        "plt.ion()   # interactive mode"
      ],
      "execution_count": null,
      "outputs": []
    },
    {
      "cell_type": "code",
      "metadata": {
        "id": "VwkUpdFCCanw"
      },
      "source": [
        "# Changes working directory \n",
        "# %cd 'drive/My Drive/Colab Notebooks/data_mining_project'\n",
        "# %ls\n"
      ],
      "execution_count": null,
      "outputs": []
    },
    {
      "cell_type": "markdown",
      "metadata": {
        "id": "KOK5CtWSU17q"
      },
      "source": [
        "## Setting Parameters"
      ]
    },
    {
      "cell_type": "code",
      "metadata": {
        "id": "UXfTe02TU17r",
        "colab": {
          "base_uri": "https://localhost:8080/",
          "height": 34
        },
        "outputId": "c02f7720-a162-4468-be19-995451599831"
      },
      "source": [
        "'''\n",
        "Global configuration parameters.\n",
        "'''\n",
        "\n",
        "### The path where the dataset has been downloaded\n",
        "#TRAIN_DIR = \"/images_training_rev1/\"\n",
        "TRAIN_DIR = \"/content/drive/My Drive/Colab Notebooks/data_mining_project/images_training_rev2/\"\n",
        "# TRAIN_DIR = 'images_training_rev2/'\n",
        "\n",
        "#TRAIN_CSV = \"/training_solutions_rev1.csv\"\n",
        "TRAIN_CSV = '/content/drive/My Drive/Colab Notebooks/data_mining_project/training_solutions_rev2.csv'\n",
        "# TRAIN_CSV = 'training_solutions_rev1.csv'\n",
        "# TRAIN_CSV = 'training_solutions_rev2.csv'\n",
        "\n",
        "MODEL = \"resnet34\" # \"sander_dieleman\" or \"alexnet\" or \"vgg16\" or \"resnet50\"\n",
        "\n",
        "SAVE_MODEL = True\n",
        "MODEL_FILENAME = \"model-\" + MODEL + \".pt\"\n",
        "\n",
        "OUTPUT_CSV = \"output-\" + MODEL + \".csv\"\n",
        "\n",
        "NUM_EPOCHS = 8\n",
        "BATCH_SIZE = 64\n",
        "device = torch.device(\"cuda:0\" if torch.cuda.is_available() else \"cpu\")\n",
        "print(device)\n",
        "NR_DEVICES = 1\n",
        "\n",
        "### For the split in train and validation datasets\n",
        "RANDOM_SEED = 42\n",
        "SHUFFLE_DS = True\n",
        "VALIDATION_SPLIT = 0.2\n",
        "\n",
        "# Flag for feature extracting. When False, we finetune the whole model,\n",
        "#   when True we only update the reshaped layer params\n",
        "feature_extract = True\n",
        "\n",
        "'''\n",
        "Fixed variables.\n",
        "No need to change anything from here on.\n",
        "'''\n",
        "\n",
        "CSV_HEADER = [ \"GalaxyID\", \"Class1.1\", \"Class1.2\", \"Class1.3\", \"Class2.1\",\n",
        "               \"Class2.2\", \"Class3.1\", \"Class3.2\", \"Class4.1\", \"Class4.2\",\n",
        "               \"Class5.1\", \"Class5.2\", \"Class5.3\", \"Class5.4\", \"Class6.1\",\n",
        "               \"Class6.2\", \"Class7.1\", \"Class7.2\", \"Class7.3\", \"Class8.1\",\n",
        "               \"Class8.2\", \"Class8.3\", \"Class8.4\", \"Class8.5\", \"Class8.6\",\n",
        "               \"Class8.7\", \"Class9.1\", \"Class9.2\", \"Class9.3\", \"Class10.1\",\n",
        "               \"Class10.2\", \"Class10.3\", \"Class11.1\", \"Class11.2\", \"Class11.3\",\n",
        "               \"Class11.4\",\"Class11.5\", \"Class11.6\"]"
      ],
      "execution_count": null,
      "outputs": [
        {
          "output_type": "stream",
          "text": [
            "cuda:0\n"
          ],
          "name": "stdout"
        }
      ]
    },
    {
      "cell_type": "markdown",
      "metadata": {
        "id": "raRR-wuEU17u"
      },
      "source": [
        "## Create dataset"
      ]
    },
    {
      "cell_type": "code",
      "metadata": {
        "id": "SBjppsUWU17v"
      },
      "source": [
        "class GalaxyDataset(Dataset):\n",
        "    \"\"\"Galaxy dataset.\"\"\"\n",
        "\n",
        "    def __init__(self, csv_file, root_dir, transform=None):\n",
        "        \"\"\"\n",
        "        Args:\n",
        "            csv_file (string): Path to the csv file with annotations.\n",
        "            root_dir (string): Directory with all the images.\n",
        "            transform (callable, optional): Optional transform to be applied\n",
        "                on a sample.\n",
        "        \"\"\"\n",
        "        self.classes_frame = pd.read_csv(csv_file)\n",
        "        self.root_dir = root_dir\n",
        "        self.transform = transform\n",
        "\n",
        "    def __len__(self):\n",
        "        return len(self.classes_frame)\n",
        "\n",
        "    def __getitem__(self, idx):\n",
        "        if torch.is_tensor(idx):\n",
        "            idx = idx.tolist()\n",
        "            \n",
        "        gal_id = self.classes_frame.iloc[idx, 0]\n",
        "        img_name = self.root_dir + '{}.jpg'.format(gal_id)\n",
        "        #image = Image.open(img_name)\n",
        "        image = io.imread(img_name)\n",
        "        classes = self.classes_frame.iloc[idx, 1:].values\n",
        "        sample = {'image': image, 'label': classes, 'gal_id':gal_id}\n",
        "\n",
        "        if self.transform:\n",
        "            # Convert image from numpy array to PIL image so I can use torchvision transforms\n",
        "            img_as_img = Image.fromarray(image)\n",
        "            image = self.transform(img_as_img)\n",
        "            \n",
        "            sample = {'image': image, 'label': classes, 'gal_id':gal_id}\n",
        "            \n",
        "        return sample"
      ],
      "execution_count": null,
      "outputs": []
    },
    {
      "cell_type": "markdown",
      "metadata": {
        "id": "ComEdMY8U17x"
      },
      "source": [
        "## Iterating through dataset with DataLoader "
      ]
    },
    {
      "cell_type": "code",
      "metadata": {
        "id": "7QWuAoUNU17y",
        "colab": {
          "base_uri": "https://localhost:8080/",
          "height": 200
        },
        "outputId": "738b2597-9516-43c1-c9fd-3258c16ad2ea"
      },
      "source": [
        "# Testing dataset with DataLoader\n",
        "\n",
        "tr_Data = GalaxyDataset(csv_file= TRAIN_CSV,\n",
        "                                           root_dir=TRAIN_DIR,\n",
        "                                           transform=transforms.Compose([\n",
        "                                               transforms.CenterCrop(224),\n",
        "                                               transforms.RandomHorizontalFlip(p=0.5),\n",
        "                                               transforms.RandomRotation(degrees=(0,360)),\n",
        "                                               transforms.RandomVerticalFlip(p=0.5),\n",
        "                                               transforms.ToTensor(),\n",
        "                                               transforms.Normalize(mean=[0.485, 0.456, 0.406],\n",
        "\t                                                  std=[0.229, 0.224, 0.225])\n",
        "                                           ]))\n",
        "\n",
        "\n",
        "dataloader = DataLoader(tr_Data, batch_size=4,\n",
        "                        shuffle=True)\n",
        "\n",
        "# Helper function to show a batch\n",
        "def show_classes_batch(sample_batched):\n",
        "    \"\"\"Show image with classes for a batch of samples.\"\"\"\n",
        "    images_batch, classes_batch = \\\n",
        "            sample_batched['image'], sample_batched['label']\n",
        "    batch_size = len(images_batch)\n",
        "    im_size = images_batch.size(2)\n",
        "    grid_border_size = 2\n",
        "\n",
        "    grid = utils.make_grid(images_batch)\n",
        "    plt.imshow(grid.numpy().transpose((1, 2, 0)))\n",
        "\n",
        "\n",
        "for i_batch, sample_batched in enumerate(dataloader):\n",
        "    print(i_batch, sample_batched['image'].size(),\n",
        "          sample_batched['label'].size())\n",
        "\n",
        "    # observe 4th batch and stop.\n",
        "    if i_batch == 3:\n",
        "        plt.figure()\n",
        "        show_classes_batch(sample_batched)\n",
        "        plt.axis('off')\n",
        "        plt.ioff()\n",
        "        plt.show()\n",
        "        break"
      ],
      "execution_count": null,
      "outputs": [
        {
          "output_type": "stream",
          "text": [
            "0 torch.Size([4, 3, 224, 224]) torch.Size([4, 37])\n",
            "1 torch.Size([4, 3, 224, 224]) torch.Size([4, 37])\n",
            "2 torch.Size([4, 3, 224, 224]) torch.Size([4, 37])\n"
          ],
          "name": "stdout"
        },
        {
          "output_type": "stream",
          "text": [
            "Clipping input data to the valid range for imshow with RGB data ([0..1] for floats or [0..255] for integers).\n"
          ],
          "name": "stderr"
        },
        {
          "output_type": "stream",
          "text": [
            "3 torch.Size([4, 3, 224, 224]) torch.Size([4, 37])\n"
          ],
          "name": "stdout"
        },
        {
          "output_type": "display_data",
          "data": {
            "image/png": "[encoded data removed]",
            "text/plain": [
              "<Figure size 432x288 with 1 Axes>"
            ]
          },
          "metadata": {
            "tags": []
          }
        }
      ]
    },
    {
      "cell_type": "markdown",
      "metadata": {
        "id": "ywd2v_WcU172"
      },
      "source": [
        "## Splitting training and validation data"
      ]
    },
    {
      "cell_type": "code",
      "metadata": {
        "id": "0g1zQOSSU173",
        "colab": {
          "base_uri": "https://localhost:8080/",
          "height": 34
        },
        "outputId": "12608c8d-d735-4b8a-954a-d8c0652ea533"
      },
      "source": [
        "size = len(tr_Data)\n",
        "#size = 20000\n",
        "indices = list(range(size))\n",
        "split = int(np.floor(VALIDATION_SPLIT * size))\n",
        "if SHUFFLE_DS:\n",
        "    np.random.seed(RANDOM_SEED)\n",
        "    np.random.shuffle(indices)\n",
        "train_indices, val_indices = indices[split:], indices[:split]\n",
        "#print(len(train_indices),len(val_indices))\n",
        "train_sampler = SubsetRandomSampler(train_indices)\n",
        "val_sampler   = SubsetRandomSampler(val_indices)\n",
        "\n",
        "train_dl = DataLoader(tr_Data, batch_size=BATCH_SIZE, num_workers=1,\n",
        "                                                 sampler=train_sampler)\n",
        "val_dl = DataLoader(tr_Data, batch_size=BATCH_SIZE, num_workers=1,\n",
        "                                                 sampler=val_sampler)\n",
        "print(\"Total: {} Train_dl: {} Validation_dl: {}\".format(size, len(train_dl),\n",
        "                                                              len(val_dl)))\n",
        "\n"
      ],
      "execution_count": null,
      "outputs": [
        {
          "output_type": "stream",
          "text": [
            "Total: 18161 Train_dl: 228 Validation_dl: 57\n"
          ],
          "name": "stdout"
        }
      ]
    },
    {
      "cell_type": "markdown",
      "metadata": {
        "id": "6X-nBF76U176"
      },
      "source": [
        "## Functions for training the model"
      ]
    },
    {
      "cell_type": "code",
      "metadata": {
        "id": "QmMonjJ9U177"
      },
      "source": [
        "def train_phase():\n",
        "    model.train()\n",
        "    losses = []\n",
        "    epoch_start = time.time()\n",
        "    for i, batch in enumerate(train_dl):\n",
        "        inputs, labels = batch['image'], batch['label'].float().view(-1,37)\n",
        "        inputs, labels = inputs.to(device), labels.to(device)\n",
        "\n",
        "        optimizer.zero_grad()             # 1. Zero the parameter gradients\n",
        "        outputs = model(inputs)           # 2. Run the model\n",
        "\n",
        "        loss = criterion(outputs, labels) # 3. Calculate loss\n",
        "        losses.append(loss.item())\n",
        "        loss = torch.sqrt(loss)           #    -> RMSE loss\n",
        "        loss.backward()                   # 4. Backward propagate the loss\n",
        "        optimizer.step()                  # 5. Optimize the network\n",
        "        \n",
        "        #print(\"--> Batch {}/{} Loss: {}\".format(i+1, len(train_dl), loss.item()))\n",
        "        \n",
        "    epoch_loss = np.sqrt(sum(losses) / len(losses))\n",
        "    epoch_time = time.time() - epoch_start\n",
        "    print(\"[TST] Epoch: {} Loss: {} Time: {:.0f}:{:.0f}\".format(epoch+1, epoch_loss,\n",
        "                                                                epoch_time // 60, \n",
        "                                                                epoch_time % 60))\n",
        "    return epoch_loss\n",
        "\n",
        "def validate_phase():\n",
        "    model.eval()\n",
        "    losses = []\n",
        "    epoch_start = time.time()\n",
        "    for i, batch in enumerate(val_dl):\n",
        "        inputs, labels = batch['image'], batch['label'].float().view(-1,37)\n",
        "        inputs, labels = inputs.to(device), labels.to(device)\n",
        "\n",
        "        outputs = model(inputs)           # 2. Run the model\n",
        "\n",
        "        loss = criterion(outputs, labels) # 3. Calculate loss\n",
        "        losses.append(loss.item())\n",
        "        loss = torch.sqrt(loss)           #    -> RMSE loss\n",
        "        \n",
        "        #print(\"--> Batch {}/{} Loss: {}\".format(i+1, len(train_dl), loss.item()))\n",
        "        \n",
        "    epoch_loss = np.sqrt(sum(losses) / len(losses))\n",
        "    epoch_time = time.time() - epoch_start\n",
        "    print(\"[VAL] Epoch: {} Loss: {} Time: {:.0f}:{:.0f}\".format(epoch+1, epoch_loss,\n",
        "                                                                epoch_time // 60, \n",
        "                                                                epoch_time % 60))\n",
        "    return epoch_loss\n"
      ],
      "execution_count": null,
      "outputs": []
    },
    {
      "cell_type": "markdown",
      "metadata": {
        "id": "v43pwKaTU179"
      },
      "source": [
        "## Feature extraction helper function"
      ]
    },
    {
      "cell_type": "code",
      "metadata": {
        "id": "ZFlQLpC5U17-"
      },
      "source": [
        "def set_parameter_requires_grad(model, feature_extracting):\n",
        "    if feature_extracting:\n",
        "        for param in model.parameters():\n",
        "            param.requires_grad = False"
      ],
      "execution_count": null,
      "outputs": []
    },
    {
      "cell_type": "markdown",
      "metadata": {
        "id": "rYxNUxIuU18A"
      },
      "source": [
        "## Initializing and reshaping the network"
      ]
    },
    {
      "cell_type": "code",
      "metadata": {
        "id": "cIz7867zU18B",
        "colab": {
          "base_uri": "https://localhost:8080/",
          "height": 1000,
          "referenced_widgets": [
            "d9e57a623b26472abae4e7f46a7f38fc",
            "4b2886fd8a8245a78cca25d0a98517d5",
            "117e30ed41fd47a98ef7066243dbce01",
            "92eee9c79284400f946e7d7566234d21",
            "b0fe676db7d946a1a0cee57335c25bd2",
            "d2dab2ca1cc64610a3b98a4e121c2d46",
            "6d0250b68f6c406e884e28e64c39924a",
            "c7ae97979b6c44c39ec504766db3cbac"
          ]
        },
        "outputId": "e88bf3f9-7c20-499f-ea0c-b016d563ad7c"
      },
      "source": [
        "# Set to true if doing feature extraction\n",
        "feature_extract = False\n",
        "\n",
        "#model = models.vgg13(pretrained=True,progress=True)\n",
        "model = models.resnet34(pretrained=True,progress=True)\n",
        "\n",
        "num_classes = 37\n",
        "# Set requires grad to false if I'm doing feature extraction\n",
        "set_parameter_requires_grad(model, feature_extract)\n",
        "# Newly initialized params will be set to true\n",
        "\n",
        "# VGG or alexnet\n",
        "#model.classifier[6] = nn.Linear(4096,num_classes)\n",
        "\n",
        "# Resnet\n",
        "num_ftrs = model.fc.in_features\n",
        "model.fc = nn.Linear(num_ftrs, 37)\n",
        "\n",
        "# send model to GPU if available\n",
        "model.to(device)\n",
        "# View model\n",
        "print(model)"
      ],
      "execution_count": null,
      "outputs": [
        {
          "output_type": "stream",
          "text": [
            "Downloading: \"https://download.pytorch.org/models/resnet34-333f7ec4.pth\" to /root/.cache/torch/checkpoints/resnet34-333f7ec4.pth\n"
          ],
          "name": "stderr"
        },
        {
          "output_type": "display_data",
          "data": {
            "application/vnd.jupyter.widget-view+json": {
              "model_id": "d9e57a623b26472abae4e7f46a7f38fc",
              "version_minor": 0,
              "version_major": 2
            },
            "text/plain": [
              "HBox(children=(IntProgress(value=0, max=87306240), HTML(value='')))"
            ]
          },
          "metadata": {
            "tags": []
          }
        },
        {
          "output_type": "stream",
          "text": [
            "\n",
            "ResNet(\n",
            "  (conv1): Conv2d(3, 64, kernel_size=(7, 7), stride=(2, 2), padding=(3, 3), bias=False)\n",
            "  (bn1): BatchNorm2d(64, eps=1e-05, momentum=0.1, affine=True, track_running_stats=True)\n",
            "  (relu): ReLU(inplace=True)\n",
            "  (maxpool): MaxPool2d(kernel_size=3, stride=2, padding=1, dilation=1, ceil_mode=False)\n",
            "  (layer1): Sequential(\n",
            "    (0): BasicBlock(\n",
            "      (conv1): Conv2d(64, 64, kernel_size=(3, 3), stride=(1, 1), padding=(1, 1), bias=False)\n",
            "      (bn1): BatchNorm2d(64, eps=1e-05, momentum=0.1, affine=True, track_running_stats=True)\n",
            "      (relu): ReLU(inplace=True)\n",
            "      (conv2): Conv2d(64, 64, kernel_size=(3, 3), stride=(1, 1), padding=(1, 1), bias=False)\n",
            "      (bn2): BatchNorm2d(64, eps=1e-05, momentum=0.1, affine=True, track_running_stats=True)\n",
            "    )\n",
            "    (1): BasicBlock(\n",
            "      (conv1): Conv2d(64, 64, kernel_size=(3, 3), stride=(1, 1), padding=(1, 1), bias=False)\n",
            "      (bn1): BatchNorm2d(64, eps=1e-05, momentum=0.1, affine=True, track_running_stats=True)\n",
            "      (relu): ReLU(inplace=True)\n",
            "      (conv2): Conv2d(64, 64, kernel_size=(3, 3), stride=(1, 1), padding=(1, 1), bias=False)\n",
            "      (bn2): BatchNorm2d(64, eps=1e-05, momentum=0.1, affine=True, track_running_stats=True)\n",
            "    )\n",
            "    (2): BasicBlock(\n",
            "      (conv1): Conv2d(64, 64, kernel_size=(3, 3), stride=(1, 1), padding=(1, 1), bias=False)\n",
            "      (bn1): BatchNorm2d(64, eps=1e-05, momentum=0.1, affine=True, track_running_stats=True)\n",
            "      (relu): ReLU(inplace=True)\n",
            "      (conv2): Conv2d(64, 64, kernel_size=(3, 3), stride=(1, 1), padding=(1, 1), bias=False)\n",
            "      (bn2): BatchNorm2d(64, eps=1e-05, momentum=0.1, affine=True, track_running_stats=True)\n",
            "    )\n",
            "  )\n",
            "  (layer2): Sequential(\n",
            "    (0): BasicBlock(\n",
            "      (conv1): Conv2d(64, 128, kernel_size=(3, 3), stride=(2, 2), padding=(1, 1), bias=False)\n",
            "      (bn1): BatchNorm2d(128, eps=1e-05, momentum=0.1, affine=True, track_running_stats=True)\n",
            "      (relu): ReLU(inplace=True)\n",
            "      (conv2): Conv2d(128, 128, kernel_size=(3, 3), stride=(1, 1), padding=(1, 1), bias=False)\n",
            "      (bn2): BatchNorm2d(128, eps=1e-05, momentum=0.1, affine=True, track_running_stats=True)\n",
            "      (downsample): Sequential(\n",
            "        (0): Conv2d(64, 128, kernel_size=(1, 1), stride=(2, 2), bias=False)\n",
            "        (1): BatchNorm2d(128, eps=1e-05, momentum=0.1, affine=True, track_running_stats=True)\n",
            "      )\n",
            "    )\n",
            "    (1): BasicBlock(\n",
            "      (conv1): Conv2d(128, 128, kernel_size=(3, 3), stride=(1, 1), padding=(1, 1), bias=False)\n",
            "      (bn1): BatchNorm2d(128, eps=1e-05, momentum=0.1, affine=True, track_running_stats=True)\n",
            "      (relu): ReLU(inplace=True)\n",
            "      (conv2): Conv2d(128, 128, kernel_size=(3, 3), stride=(1, 1), padding=(1, 1), bias=False)\n",
            "      (bn2): BatchNorm2d(128, eps=1e-05, momentum=0.1, affine=True, track_running_stats=True)\n",
            "    )\n",
            "    (2): BasicBlock(\n",
            "      (conv1): Conv2d(128, 128, kernel_size=(3, 3), stride=(1, 1), padding=(1, 1), bias=False)\n",
            "      (bn1): BatchNorm2d(128, eps=1e-05, momentum=0.1, affine=True, track_running_stats=True)\n",
            "      (relu): ReLU(inplace=True)\n",
            "      (conv2): Conv2d(128, 128, kernel_size=(3, 3), stride=(1, 1), padding=(1, 1), bias=False)\n",
            "      (bn2): BatchNorm2d(128, eps=1e-05, momentum=0.1, affine=True, track_running_stats=True)\n",
            "    )\n",
            "    (3): BasicBlock(\n",
            "      (conv1): Conv2d(128, 128, kernel_size=(3, 3), stride=(1, 1), padding=(1, 1), bias=False)\n",
            "      (bn1): BatchNorm2d(128, eps=1e-05, momentum=0.1, affine=True, track_running_stats=True)\n",
            "      (relu): ReLU(inplace=True)\n",
            "      (conv2): Conv2d(128, 128, kernel_size=(3, 3), stride=(1, 1), padding=(1, 1), bias=False)\n",
            "      (bn2): BatchNorm2d(128, eps=1e-05, momentum=0.1, affine=True, track_running_stats=True)\n",
            "    )\n",
            "  )\n",
            "  (layer3): Sequential(\n",
            "    (0): BasicBlock(\n",
            "      (conv1): Conv2d(128, 256, kernel_size=(3, 3), stride=(2, 2), padding=(1, 1), bias=False)\n",
            "      (bn1): BatchNorm2d(256, eps=1e-05, momentum=0.1, affine=True, track_running_stats=True)\n",
            "      (relu): ReLU(inplace=True)\n",
            "      (conv2): Conv2d(256, 256, kernel_size=(3, 3), stride=(1, 1), padding=(1, 1), bias=False)\n",
            "      (bn2): BatchNorm2d(256, eps=1e-05, momentum=0.1, affine=True, track_running_stats=True)\n",
            "      (downsample): Sequential(\n",
            "        (0): Conv2d(128, 256, kernel_size=(1, 1), stride=(2, 2), bias=False)\n",
            "        (1): BatchNorm2d(256, eps=1e-05, momentum=0.1, affine=True, track_running_stats=True)\n",
            "      )\n",
            "    )\n",
            "    (1): BasicBlock(\n",
            "      (conv1): Conv2d(256, 256, kernel_size=(3, 3), stride=(1, 1), padding=(1, 1), bias=False)\n",
            "      (bn1): BatchNorm2d(256, eps=1e-05, momentum=0.1, affine=True, track_running_stats=True)\n",
            "      (relu): ReLU(inplace=True)\n",
            "      (conv2): Conv2d(256, 256, kernel_size=(3, 3), stride=(1, 1), padding=(1, 1), bias=False)\n",
            "      (bn2): BatchNorm2d(256, eps=1e-05, momentum=0.1, affine=True, track_running_stats=True)\n",
            "    )\n",
            "    (2): BasicBlock(\n",
            "      (conv1): Conv2d(256, 256, kernel_size=(3, 3), stride=(1, 1), padding=(1, 1), bias=False)\n",
            "      (bn1): BatchNorm2d(256, eps=1e-05, momentum=0.1, affine=True, track_running_stats=True)\n",
            "      (relu): ReLU(inplace=True)\n",
            "      (conv2): Conv2d(256, 256, kernel_size=(3, 3), stride=(1, 1), padding=(1, 1), bias=False)\n",
            "      (bn2): BatchNorm2d(256, eps=1e-05, momentum=0.1, affine=True, track_running_stats=True)\n",
            "    )\n",
            "    (3): BasicBlock(\n",
            "      (conv1): Conv2d(256, 256, kernel_size=(3, 3), stride=(1, 1), padding=(1, 1), bias=False)\n",
            "      (bn1): BatchNorm2d(256, eps=1e-05, momentum=0.1, affine=True, track_running_stats=True)\n",
            "      (relu): ReLU(inplace=True)\n",
            "      (conv2): Conv2d(256, 256, kernel_size=(3, 3), stride=(1, 1), padding=(1, 1), bias=False)\n",
            "      (bn2): BatchNorm2d(256, eps=1e-05, momentum=0.1, affine=True, track_running_stats=True)\n",
            "    )\n",
            "    (4): BasicBlock(\n",
            "      (conv1): Conv2d(256, 256, kernel_size=(3, 3), stride=(1, 1), padding=(1, 1), bias=False)\n",
            "      (bn1): BatchNorm2d(256, eps=1e-05, momentum=0.1, affine=True, track_running_stats=True)\n",
            "      (relu): ReLU(inplace=True)\n",
            "      (conv2): Conv2d(256, 256, kernel_size=(3, 3), stride=(1, 1), padding=(1, 1), bias=False)\n",
            "      (bn2): BatchNorm2d(256, eps=1e-05, momentum=0.1, affine=True, track_running_stats=True)\n",
            "    )\n",
            "    (5): BasicBlock(\n",
            "      (conv1): Conv2d(256, 256, kernel_size=(3, 3), stride=(1, 1), padding=(1, 1), bias=False)\n",
            "      (bn1): BatchNorm2d(256, eps=1e-05, momentum=0.1, affine=True, track_running_stats=True)\n",
            "      (relu): ReLU(inplace=True)\n",
            "      (conv2): Conv2d(256, 256, kernel_size=(3, 3), stride=(1, 1), padding=(1, 1), bias=False)\n",
            "      (bn2): BatchNorm2d(256, eps=1e-05, momentum=0.1, affine=True, track_running_stats=True)\n",
            "    )\n",
            "  )\n",
            "  (layer4): Sequential(\n",
            "    (0): BasicBlock(\n",
            "      (conv1): Conv2d(256, 512, kernel_size=(3, 3), stride=(2, 2), padding=(1, 1), bias=False)\n",
            "      (bn1): BatchNorm2d(512, eps=1e-05, momentum=0.1, affine=True, track_running_stats=True)\n",
            "      (relu): ReLU(inplace=True)\n",
            "      (conv2): Conv2d(512, 512, kernel_size=(3, 3), stride=(1, 1), padding=(1, 1), bias=False)\n",
            "      (bn2): BatchNorm2d(512, eps=1e-05, momentum=0.1, affine=True, track_running_stats=True)\n",
            "      (downsample): Sequential(\n",
            "        (0): Conv2d(256, 512, kernel_size=(1, 1), stride=(2, 2), bias=False)\n",
            "        (1): BatchNorm2d(512, eps=1e-05, momentum=0.1, affine=True, track_running_stats=True)\n",
            "      )\n",
            "    )\n",
            "    (1): BasicBlock(\n",
            "      (conv1): Conv2d(512, 512, kernel_size=(3, 3), stride=(1, 1), padding=(1, 1), bias=False)\n",
            "      (bn1): BatchNorm2d(512, eps=1e-05, momentum=0.1, affine=True, track_running_stats=True)\n",
            "      (relu): ReLU(inplace=True)\n",
            "      (conv2): Conv2d(512, 512, kernel_size=(3, 3), stride=(1, 1), padding=(1, 1), bias=False)\n",
            "      (bn2): BatchNorm2d(512, eps=1e-05, momentum=0.1, affine=True, track_running_stats=True)\n",
            "    )\n",
            "    (2): BasicBlock(\n",
            "      (conv1): Conv2d(512, 512, kernel_size=(3, 3), stride=(1, 1), padding=(1, 1), bias=False)\n",
            "      (bn1): BatchNorm2d(512, eps=1e-05, momentum=0.1, affine=True, track_running_stats=True)\n",
            "      (relu): ReLU(inplace=True)\n",
            "      (conv2): Conv2d(512, 512, kernel_size=(3, 3), stride=(1, 1), padding=(1, 1), bias=False)\n",
            "      (bn2): BatchNorm2d(512, eps=1e-05, momentum=0.1, affine=True, track_running_stats=True)\n",
            "    )\n",
            "  )\n",
            "  (avgpool): AdaptiveAvgPool2d(output_size=(1, 1))\n",
            "  (fc): Linear(in_features=512, out_features=37, bias=True)\n",
            ")\n"
          ],
          "name": "stdout"
        }
      ]
    },
    {
      "cell_type": "markdown",
      "metadata": {
        "id": "iRD_-DKjU18E"
      },
      "source": [
        "## Setting optimizer"
      ]
    },
    {
      "cell_type": "code",
      "metadata": {
        "id": "E2BsdxfxU18E",
        "colab": {
          "base_uri": "https://localhost:8080/",
          "height": 1000
        },
        "outputId": "76d51ebf-c376-4d06-cddb-891bf7916f83"
      },
      "source": [
        "# Gather the parameters to be optimized/updated in this run. If we are\n",
        "#  finetuning we will be updating all parameters. However, if we are\n",
        "#  doing feature extract method, we will only update the parameters\n",
        "#  that we have just initialized, i.e. the parameters with requires_grad\n",
        "#  is True.\n",
        "params_to_update = model.parameters()\n",
        "print(\"Params to learn:\")\n",
        "if feature_extract:\n",
        "    params_to_update = []\n",
        "    for name,param in model.named_parameters():\n",
        "        if param.requires_grad == True:\n",
        "            params_to_update.append(param)\n",
        "            print(\"\\t\",name)\n",
        "else:\n",
        "    for name,param in model.named_parameters():\n",
        "        if param.requires_grad == True:\n",
        "            print(\"\\t\",name)\n",
        "\n",
        "# I think MSE loss makes most since b/c this isn't hard categorization\n",
        "criterion = nn.MSELoss()\n",
        "# Observe that all parameters are being optimized\n",
        "#optimizer = optim.SGD(params_to_update, lr=0.001, momentum=0.9)\n",
        "optimizer = optim.Adam(params_to_update, lr=0.001, betas=(0.9, 0.999))\n",
        "scheduler = lr_scheduler.ReduceLROnPlateau(optimizer, 'min', verbose=True)"
      ],
      "execution_count": null,
      "outputs": [
        {
          "output_type": "stream",
          "text": [
            "Params to learn:\n",
            "\t conv1.weight\n",
            "\t bn1.weight\n",
            "\t bn1.bias\n",
            "\t layer1.0.conv1.weight\n",
            "\t layer1.0.bn1.weight\n",
            "\t layer1.0.bn1.bias\n",
            "\t layer1.0.conv2.weight\n",
            "\t layer1.0.bn2.weight\n",
            "\t layer1.0.bn2.bias\n",
            "\t layer1.1.conv1.weight\n",
            "\t layer1.1.bn1.weight\n",
            "\t layer1.1.bn1.bias\n",
            "\t layer1.1.conv2.weight\n",
            "\t layer1.1.bn2.weight\n",
            "\t layer1.1.bn2.bias\n",
            "\t layer1.2.conv1.weight\n",
            "\t layer1.2.bn1.weight\n",
            "\t layer1.2.bn1.bias\n",
            "\t layer1.2.conv2.weight\n",
            "\t layer1.2.bn2.weight\n",
            "\t layer1.2.bn2.bias\n",
            "\t layer2.0.conv1.weight\n",
            "\t layer2.0.bn1.weight\n",
            "\t layer2.0.bn1.bias\n",
            "\t layer2.0.conv2.weight\n",
            "\t layer2.0.bn2.weight\n",
            "\t layer2.0.bn2.bias\n",
            "\t layer2.0.downsample.0.weight\n",
            "\t layer2.0.downsample.1.weight\n",
            "\t layer2.0.downsample.1.bias\n",
            "\t layer2.1.conv1.weight\n",
            "\t layer2.1.bn1.weight\n",
            "\t layer2.1.bn1.bias\n",
            "\t layer2.1.conv2.weight\n",
            "\t layer2.1.bn2.weight\n",
            "\t layer2.1.bn2.bias\n",
            "\t layer2.2.conv1.weight\n",
            "\t layer2.2.bn1.weight\n",
            "\t layer2.2.bn1.bias\n",
            "\t layer2.2.conv2.weight\n",
            "\t layer2.2.bn2.weight\n",
            "\t layer2.2.bn2.bias\n",
            "\t layer2.3.conv1.weight\n",
            "\t layer2.3.bn1.weight\n",
            "\t layer2.3.bn1.bias\n",
            "\t layer2.3.conv2.weight\n",
            "\t layer2.3.bn2.weight\n",
            "\t layer2.3.bn2.bias\n",
            "\t layer3.0.conv1.weight\n",
            "\t layer3.0.bn1.weight\n",
            "\t layer3.0.bn1.bias\n",
            "\t layer3.0.conv2.weight\n",
            "\t layer3.0.bn2.weight\n",
            "\t layer3.0.bn2.bias\n",
            "\t layer3.0.downsample.0.weight\n",
            "\t layer3.0.downsample.1.weight\n",
            "\t layer3.0.downsample.1.bias\n",
            "\t layer3.1.conv1.weight\n",
            "\t layer3.1.bn1.weight\n",
            "\t layer3.1.bn1.bias\n",
            "\t layer3.1.conv2.weight\n",
            "\t layer3.1.bn2.weight\n",
            "\t layer3.1.bn2.bias\n",
            "\t layer3.2.conv1.weight\n",
            "\t layer3.2.bn1.weight\n",
            "\t layer3.2.bn1.bias\n",
            "\t layer3.2.conv2.weight\n",
            "\t layer3.2.bn2.weight\n",
            "\t layer3.2.bn2.bias\n",
            "\t layer3.3.conv1.weight\n",
            "\t layer3.3.bn1.weight\n",
            "\t layer3.3.bn1.bias\n",
            "\t layer3.3.conv2.weight\n",
            "\t layer3.3.bn2.weight\n",
            "\t layer3.3.bn2.bias\n",
            "\t layer3.4.conv1.weight\n",
            "\t layer3.4.bn1.weight\n",
            "\t layer3.4.bn1.bias\n",
            "\t layer3.4.conv2.weight\n",
            "\t layer3.4.bn2.weight\n",
            "\t layer3.4.bn2.bias\n",
            "\t layer3.5.conv1.weight\n",
            "\t layer3.5.bn1.weight\n",
            "\t layer3.5.bn1.bias\n",
            "\t layer3.5.conv2.weight\n",
            "\t layer3.5.bn2.weight\n",
            "\t layer3.5.bn2.bias\n",
            "\t layer4.0.conv1.weight\n",
            "\t layer4.0.bn1.weight\n",
            "\t layer4.0.bn1.bias\n",
            "\t layer4.0.conv2.weight\n",
            "\t layer4.0.bn2.weight\n",
            "\t layer4.0.bn2.bias\n",
            "\t layer4.0.downsample.0.weight\n",
            "\t layer4.0.downsample.1.weight\n",
            "\t layer4.0.downsample.1.bias\n",
            "\t layer4.1.conv1.weight\n",
            "\t layer4.1.bn1.weight\n",
            "\t layer4.1.bn1.bias\n",
            "\t layer4.1.conv2.weight\n",
            "\t layer4.1.bn2.weight\n",
            "\t layer4.1.bn2.bias\n",
            "\t layer4.2.conv1.weight\n",
            "\t layer4.2.bn1.weight\n",
            "\t layer4.2.bn1.bias\n",
            "\t layer4.2.conv2.weight\n",
            "\t layer4.2.bn2.weight\n",
            "\t layer4.2.bn2.bias\n",
            "\t fc.weight\n",
            "\t fc.bias\n"
          ],
          "name": "stdout"
        }
      ]
    },
    {
      "cell_type": "markdown",
      "metadata": {
        "id": "DH4gFhQkU18G"
      },
      "source": [
        "## Run the model"
      ]
    },
    {
      "cell_type": "code",
      "metadata": {
        "id": "IQfBRtxUU18H",
        "colab": {
          "base_uri": "https://localhost:8080/",
          "height": 289
        },
        "outputId": "7250bbc0-15e1-444a-be63-6a2e1342d530"
      },
      "source": [
        "## Training\n",
        "train_losses = []\n",
        "val_losses = []\n",
        "for epoch in range(NUM_EPOCHS):\n",
        "    train_loss = train_phase()\n",
        "    val_loss   = validate_phase()\n",
        "    scheduler.step(val_loss)    \n",
        "    \n",
        "    train_losses.append(train_loss)\n",
        "    val_losses.append(val_loss)"
      ],
      "execution_count": null,
      "outputs": [
        {
          "output_type": "stream",
          "text": [
            "[TST] Epoch: 1 Loss: 0.1454570243179699 Time: 122:37\n",
            "[VAL] Epoch: 1 Loss: 0.15993638406772748 Time: 29:49\n",
            "[TST] Epoch: 2 Loss: 0.11425516090713983 Time: 1:58\n",
            "[VAL] Epoch: 2 Loss: 0.11937664606418066 Time: 0:28\n",
            "[TST] Epoch: 3 Loss: 0.10885555680341633 Time: 2:0\n",
            "[VAL] Epoch: 3 Loss: 0.12752346338923473 Time: 0:29\n",
            "[TST] Epoch: 4 Loss: 0.10467005530187569 Time: 2:3\n",
            "[VAL] Epoch: 4 Loss: 0.1085429318324167 Time: 0:28\n",
            "[TST] Epoch: 5 Loss: 0.10163262444522674 Time: 2:1\n",
            "[VAL] Epoch: 5 Loss: 0.10606917108636442 Time: 0:28\n",
            "[TST] Epoch: 6 Loss: 0.09888330393343607 Time: 1:60\n",
            "[VAL] Epoch: 6 Loss: 0.12974471173753455 Time: 0:29\n",
            "[TST] Epoch: 7 Loss: 0.09886707691800437 Time: 2:1\n",
            "[VAL] Epoch: 7 Loss: 0.11058795386649947 Time: 0:28\n",
            "[TST] Epoch: 8 Loss: 0.09662258571708404 Time: 2:1\n",
            "[VAL] Epoch: 8 Loss: 0.10987653083545995 Time: 0:29\n"
          ],
          "name": "stdout"
        }
      ]
    },
    {
      "cell_type": "markdown",
      "metadata": {
        "id": "4Z80goC0U18K"
      },
      "source": [
        "## Plotting losses"
      ]
    },
    {
      "cell_type": "code",
      "metadata": {
        "id": "b0Kf-FsqU18K",
        "colab": {
          "base_uri": "https://localhost:8080/",
          "height": 325
        },
        "outputId": "3ef14b38-15f4-4e82-cff8-4d9cd551e1f7"
      },
      "source": [
        "epochs = range(1,NUM_EPOCHS+1)\n",
        "plt.figure(figsize = (5,4.5))\n",
        "plt.plot(epochs,train_losses,label='training')\n",
        "plt.plot(epochs,val_losses,label='validation')\n",
        "plt.xlabel(\"epoch\")\n",
        "plt.ylabel(\"MSE loss\")\n",
        "plt.title('vgg19 loss curves',fontsize=15)\n",
        "plt.legend()\n",
        "[i.set_linewidth(0.4) for i in plt.gca().spines.values()]\n",
        "\n",
        "\n",
        "plt.show()"
      ],
      "execution_count": null,
      "outputs": [
        {
          "output_type": "display_data",
          "data": {
            "image/png": "[encoded data removed]",
            "text/plain": [
              "<Figure size 360x324 with 1 Axes>"
            ]
          },
          "metadata": {
            "tags": []
          }
        }
      ]
    },
    {
      "cell_type": "markdown",
      "metadata": {
        "id": "3i0MraS8U18O"
      },
      "source": [
        "## Saving Model"
      ]
    },
    {
      "cell_type": "code",
      "metadata": {
        "id": "uN5qRY5zU18P"
      },
      "source": [
        "if SAVE_MODEL:\n",
        "\ttorch.save(model, MODEL_FILENAME)\n",
        "    "
      ],
      "execution_count": null,
      "outputs": []
    },
    {
      "cell_type": "markdown",
      "metadata": {
        "id": "xqNR7b-uQ5XB"
      },
      "source": [
        "# Loading saved model"
      ]
    },
    {
      "cell_type": "code",
      "metadata": {
        "id": "fjw8m4DJQ10W"
      },
      "source": [
        "## Load saved model\n",
        "\n",
        "PATH = '/model-resnet34.pt'\n",
        "# Model class must be defined somewhere\n",
        "model = torch.load(PATH)#,map_location=torch.device('gpu'))\n",
        "\n",
        "# Maybe comment out eval and run again? IDK \n",
        "model = model.eval()"
      ],
      "execution_count": null,
      "outputs": []
    },
    {
      "cell_type": "markdown",
      "metadata": {
        "id": "OyvmE_3cU18R"
      },
      "source": [
        "## Feature extraction using trained model"
      ]
    },
    {
      "cell_type": "code",
      "metadata": {
        "id": "8NP9d639U18S",
        "colab": {
          "base_uri": "https://localhost:8080/",
          "height": 1000
        },
        "outputId": "f9fccab2-1020-4a72-e518-8329271c0cca"
      },
      "source": [
        "# For VGG\n",
        "#print(*list(model.classifier.children())[:-2]) # This has been best so far\n",
        "\n",
        "# For resnet\n",
        "#print(*list(model.children())[:-1])\n",
        "\n",
        "# remove last fully-connected layer\n",
        "\n",
        "# For VGG or alexnet\n",
        "# new_classifier = torch.nn.Sequential(*list(model.classifier.children())[:-1])\n",
        "# model.classifier = new_classifier\n",
        "\n",
        "# For resnet\n",
        "model = torch.nn.Sequential(*list(model.children())[:-1])\n",
        "                        #torch.nn.ReLU(inplace=True))\n",
        "print(model)"
      ],
      "execution_count": null,
      "outputs": [
        {
          "output_type": "stream",
          "text": [
            "Sequential(\n",
            "  (0): Conv2d(3, 64, kernel_size=(7, 7), stride=(2, 2), padding=(3, 3), bias=False)\n",
            "  (1): BatchNorm2d(64, eps=1e-05, momentum=0.1, affine=True, track_running_stats=True)\n",
            "  (2): ReLU(inplace=True)\n",
            "  (3): MaxPool2d(kernel_size=3, stride=2, padding=1, dilation=1, ceil_mode=False)\n",
            "  (4): Sequential(\n",
            "    (0): BasicBlock(\n",
            "      (conv1): Conv2d(64, 64, kernel_size=(3, 3), stride=(1, 1), padding=(1, 1), bias=False)\n",
            "      (bn1): BatchNorm2d(64, eps=1e-05, momentum=0.1, affine=True, track_running_stats=True)\n",
            "      (relu): ReLU(inplace=True)\n",
            "      (conv2): Conv2d(64, 64, kernel_size=(3, 3), stride=(1, 1), padding=(1, 1), bias=False)\n",
            "      (bn2): BatchNorm2d(64, eps=1e-05, momentum=0.1, affine=True, track_running_stats=True)\n",
            "    )\n",
            "    (1): BasicBlock(\n",
            "      (conv1): Conv2d(64, 64, kernel_size=(3, 3), stride=(1, 1), padding=(1, 1), bias=False)\n",
            "      (bn1): BatchNorm2d(64, eps=1e-05, momentum=0.1, affine=True, track_running_stats=True)\n",
            "      (relu): ReLU(inplace=True)\n",
            "      (conv2): Conv2d(64, 64, kernel_size=(3, 3), stride=(1, 1), padding=(1, 1), bias=False)\n",
            "      (bn2): BatchNorm2d(64, eps=1e-05, momentum=0.1, affine=True, track_running_stats=True)\n",
            "    )\n",
            "    (2): BasicBlock(\n",
            "      (conv1): Conv2d(64, 64, kernel_size=(3, 3), stride=(1, 1), padding=(1, 1), bias=False)\n",
            "      (bn1): BatchNorm2d(64, eps=1e-05, momentum=0.1, affine=True, track_running_stats=True)\n",
            "      (relu): ReLU(inplace=True)\n",
            "      (conv2): Conv2d(64, 64, kernel_size=(3, 3), stride=(1, 1), padding=(1, 1), bias=False)\n",
            "      (bn2): BatchNorm2d(64, eps=1e-05, momentum=0.1, affine=True, track_running_stats=True)\n",
            "    )\n",
            "  )\n",
            "  (5): Sequential(\n",
            "    (0): BasicBlock(\n",
            "      (conv1): Conv2d(64, 128, kernel_size=(3, 3), stride=(2, 2), padding=(1, 1), bias=False)\n",
            "      (bn1): BatchNorm2d(128, eps=1e-05, momentum=0.1, affine=True, track_running_stats=True)\n",
            "      (relu): ReLU(inplace=True)\n",
            "      (conv2): Conv2d(128, 128, kernel_size=(3, 3), stride=(1, 1), padding=(1, 1), bias=False)\n",
            "      (bn2): BatchNorm2d(128, eps=1e-05, momentum=0.1, affine=True, track_running_stats=True)\n",
            "      (downsample): Sequential(\n",
            "        (0): Conv2d(64, 128, kernel_size=(1, 1), stride=(2, 2), bias=False)\n",
            "        (1): BatchNorm2d(128, eps=1e-05, momentum=0.1, affine=True, track_running_stats=True)\n",
            "      )\n",
            "    )\n",
            "    (1): BasicBlock(\n",
            "      (conv1): Conv2d(128, 128, kernel_size=(3, 3), stride=(1, 1), padding=(1, 1), bias=False)\n",
            "      (bn1): BatchNorm2d(128, eps=1e-05, momentum=0.1, affine=True, track_running_stats=True)\n",
            "      (relu): ReLU(inplace=True)\n",
            "      (conv2): Conv2d(128, 128, kernel_size=(3, 3), stride=(1, 1), padding=(1, 1), bias=False)\n",
            "      (bn2): BatchNorm2d(128, eps=1e-05, momentum=0.1, affine=True, track_running_stats=True)\n",
            "    )\n",
            "    (2): BasicBlock(\n",
            "      (conv1): Conv2d(128, 128, kernel_size=(3, 3), stride=(1, 1), padding=(1, 1), bias=False)\n",
            "      (bn1): BatchNorm2d(128, eps=1e-05, momentum=0.1, affine=True, track_running_stats=True)\n",
            "      (relu): ReLU(inplace=True)\n",
            "      (conv2): Conv2d(128, 128, kernel_size=(3, 3), stride=(1, 1), padding=(1, 1), bias=False)\n",
            "      (bn2): BatchNorm2d(128, eps=1e-05, momentum=0.1, affine=True, track_running_stats=True)\n",
            "    )\n",
            "    (3): BasicBlock(\n",
            "      (conv1): Conv2d(128, 128, kernel_size=(3, 3), stride=(1, 1), padding=(1, 1), bias=False)\n",
            "      (bn1): BatchNorm2d(128, eps=1e-05, momentum=0.1, affine=True, track_running_stats=True)\n",
            "      (relu): ReLU(inplace=True)\n",
            "      (conv2): Conv2d(128, 128, kernel_size=(3, 3), stride=(1, 1), padding=(1, 1), bias=False)\n",
            "      (bn2): BatchNorm2d(128, eps=1e-05, momentum=0.1, affine=True, track_running_stats=True)\n",
            "    )\n",
            "  )\n",
            "  (6): Sequential(\n",
            "    (0): BasicBlock(\n",
            "      (conv1): Conv2d(128, 256, kernel_size=(3, 3), stride=(2, 2), padding=(1, 1), bias=False)\n",
            "      (bn1): BatchNorm2d(256, eps=1e-05, momentum=0.1, affine=True, track_running_stats=True)\n",
            "      (relu): ReLU(inplace=True)\n",
            "      (conv2): Conv2d(256, 256, kernel_size=(3, 3), stride=(1, 1), padding=(1, 1), bias=False)\n",
            "      (bn2): BatchNorm2d(256, eps=1e-05, momentum=0.1, affine=True, track_running_stats=True)\n",
            "      (downsample): Sequential(\n",
            "        (0): Conv2d(128, 256, kernel_size=(1, 1), stride=(2, 2), bias=False)\n",
            "        (1): BatchNorm2d(256, eps=1e-05, momentum=0.1, affine=True, track_running_stats=True)\n",
            "      )\n",
            "    )\n",
            "    (1): BasicBlock(\n",
            "      (conv1): Conv2d(256, 256, kernel_size=(3, 3), stride=(1, 1), padding=(1, 1), bias=False)\n",
            "      (bn1): BatchNorm2d(256, eps=1e-05, momentum=0.1, affine=True, track_running_stats=True)\n",
            "      (relu): ReLU(inplace=True)\n",
            "      (conv2): Conv2d(256, 256, kernel_size=(3, 3), stride=(1, 1), padding=(1, 1), bias=False)\n",
            "      (bn2): BatchNorm2d(256, eps=1e-05, momentum=0.1, affine=True, track_running_stats=True)\n",
            "    )\n",
            "    (2): BasicBlock(\n",
            "      (conv1): Conv2d(256, 256, kernel_size=(3, 3), stride=(1, 1), padding=(1, 1), bias=False)\n",
            "      (bn1): BatchNorm2d(256, eps=1e-05, momentum=0.1, affine=True, track_running_stats=True)\n",
            "      (relu): ReLU(inplace=True)\n",
            "      (conv2): Conv2d(256, 256, kernel_size=(3, 3), stride=(1, 1), padding=(1, 1), bias=False)\n",
            "      (bn2): BatchNorm2d(256, eps=1e-05, momentum=0.1, affine=True, track_running_stats=True)\n",
            "    )\n",
            "    (3): BasicBlock(\n",
            "      (conv1): Conv2d(256, 256, kernel_size=(3, 3), stride=(1, 1), padding=(1, 1), bias=False)\n",
            "      (bn1): BatchNorm2d(256, eps=1e-05, momentum=0.1, affine=True, track_running_stats=True)\n",
            "      (relu): ReLU(inplace=True)\n",
            "      (conv2): Conv2d(256, 256, kernel_size=(3, 3), stride=(1, 1), padding=(1, 1), bias=False)\n",
            "      (bn2): BatchNorm2d(256, eps=1e-05, momentum=0.1, affine=True, track_running_stats=True)\n",
            "    )\n",
            "    (4): BasicBlock(\n",
            "      (conv1): Conv2d(256, 256, kernel_size=(3, 3), stride=(1, 1), padding=(1, 1), bias=False)\n",
            "      (bn1): BatchNorm2d(256, eps=1e-05, momentum=0.1, affine=True, track_running_stats=True)\n",
            "      (relu): ReLU(inplace=True)\n",
            "      (conv2): Conv2d(256, 256, kernel_size=(3, 3), stride=(1, 1), padding=(1, 1), bias=False)\n",
            "      (bn2): BatchNorm2d(256, eps=1e-05, momentum=0.1, affine=True, track_running_stats=True)\n",
            "    )\n",
            "    (5): BasicBlock(\n",
            "      (conv1): Conv2d(256, 256, kernel_size=(3, 3), stride=(1, 1), padding=(1, 1), bias=False)\n",
            "      (bn1): BatchNorm2d(256, eps=1e-05, momentum=0.1, affine=True, track_running_stats=True)\n",
            "      (relu): ReLU(inplace=True)\n",
            "      (conv2): Conv2d(256, 256, kernel_size=(3, 3), stride=(1, 1), padding=(1, 1), bias=False)\n",
            "      (bn2): BatchNorm2d(256, eps=1e-05, momentum=0.1, affine=True, track_running_stats=True)\n",
            "    )\n",
            "  )\n",
            "  (7): Sequential(\n",
            "    (0): BasicBlock(\n",
            "      (conv1): Conv2d(256, 512, kernel_size=(3, 3), stride=(2, 2), padding=(1, 1), bias=False)\n",
            "      (bn1): BatchNorm2d(512, eps=1e-05, momentum=0.1, affine=True, track_running_stats=True)\n",
            "      (relu): ReLU(inplace=True)\n",
            "      (conv2): Conv2d(512, 512, kernel_size=(3, 3), stride=(1, 1), padding=(1, 1), bias=False)\n",
            "      (bn2): BatchNorm2d(512, eps=1e-05, momentum=0.1, affine=True, track_running_stats=True)\n",
            "      (downsample): Sequential(\n",
            "        (0): Conv2d(256, 512, kernel_size=(1, 1), stride=(2, 2), bias=False)\n",
            "        (1): BatchNorm2d(512, eps=1e-05, momentum=0.1, affine=True, track_running_stats=True)\n",
            "      )\n",
            "    )\n",
            "    (1): BasicBlock(\n",
            "      (conv1): Conv2d(512, 512, kernel_size=(3, 3), stride=(1, 1), padding=(1, 1), bias=False)\n",
            "      (bn1): BatchNorm2d(512, eps=1e-05, momentum=0.1, affine=True, track_running_stats=True)\n",
            "      (relu): ReLU(inplace=True)\n",
            "      (conv2): Conv2d(512, 512, kernel_size=(3, 3), stride=(1, 1), padding=(1, 1), bias=False)\n",
            "      (bn2): BatchNorm2d(512, eps=1e-05, momentum=0.1, affine=True, track_running_stats=True)\n",
            "    )\n",
            "    (2): BasicBlock(\n",
            "      (conv1): Conv2d(512, 512, kernel_size=(3, 3), stride=(1, 1), padding=(1, 1), bias=False)\n",
            "      (bn1): BatchNorm2d(512, eps=1e-05, momentum=0.1, affine=True, track_running_stats=True)\n",
            "      (relu): ReLU(inplace=True)\n",
            "      (conv2): Conv2d(512, 512, kernel_size=(3, 3), stride=(1, 1), padding=(1, 1), bias=False)\n",
            "      (bn2): BatchNorm2d(512, eps=1e-05, momentum=0.1, affine=True, track_running_stats=True)\n",
            "    )\n",
            "  )\n",
            "  (8): AdaptiveAvgPool2d(output_size=(1, 1))\n",
            ")\n"
          ],
          "name": "stdout"
        }
      ]
    },
    {
      "cell_type": "code",
      "metadata": {
        "id": "BblUY-wV-HPk"
      },
      "source": [
        "# Let's loop through some images and extract feature vectors\n",
        "# of galaxy data\n",
        "\n",
        "num_galaxies = 500\n",
        "# For VGG\n",
        "#shaper = 4096\n",
        "# For resnet\n",
        "shaper = 512\n",
        "\n",
        "feat_vec = []\n",
        "my_labels = []\n",
        "gal_id = []\n",
        "for i,samples in enumerate(tr_Data):\n",
        "    #print(samples['image'])\n",
        "    feat_vec.append(model(samples['image'].cuda().unsqueeze_(0)).cpu().detach().numpy().reshape(shaper))\n",
        "    my_labels.append(list(samples['label']))\n",
        "    gal_id.append(samples['gal_id'])\n",
        "    # if i ==num_galaxies:\n",
        "    #     break\n"
      ],
      "execution_count": null,
      "outputs": []
    },
    {
      "cell_type": "code",
      "metadata": {
        "id": "paXssymz-_2M",
        "colab": {
          "base_uri": "https://localhost:8080/",
          "height": 34
        },
        "outputId": "d2dcaf19-f7a3-4af3-d8cb-376343720d74"
      },
      "source": [
        "# Make label categories\n",
        "#print(my_labels)\n",
        "# Need to categorize these by looping through labels, extracting argmax\n",
        "# This is a somewhat arbitrary extraction, could go into more detail later if interested\n",
        "gal_classes = ['round:completely round','round:in-between','round:cigar-shaped', \\\n",
        "              'disk:rounded','disk:boxy','disk:no bulge', \\\n",
        "              'spiral','no spiral']\n",
        "colorby =[]\n",
        "for i in my_labels:\n",
        "    #i = i[0]\n",
        "    gal_type = np.argmax(i[0:3])\n",
        "    if gal_type == 0:\n",
        "        round_type = np.argmax(i[15:18])\n",
        "        if round_type == 0:\n",
        "            # completely round\n",
        "            colorby.append(0)\n",
        "        elif round_type == 1:\n",
        "            # in between\n",
        "            colorby.append(1)\n",
        "        else:\n",
        "            # cigar shaped\n",
        "            colorby.append(2)\n",
        "    else:\n",
        "        disk_type = np.argmax(i[3:5])\n",
        "        if disk_type == 0:\n",
        "            # Bulge\n",
        "                bulge_type = np.argmax(i[25:28])\n",
        "                if bulge_type == 0:\n",
        "                    # rounded\n",
        "                    colorby.append(3)\n",
        "                elif bulge_type == 1:\n",
        "                    # boxy\n",
        "                    colorby.append(4)\n",
        "                elif bulge_type == 2:\n",
        "                    # no bulge\n",
        "                    colorby.append(5)\n",
        "        elif disk_type == 1:\n",
        "            # spiral?\n",
        "            spiral_type = np.argmax(i[7:9])\n",
        "            if spiral_type == 0:\n",
        "                # spiral\n",
        "                colorby.append(6)\n",
        "            elif spiral_type == 1:\n",
        "                # No spiral\n",
        "                colorby.append(7)\n",
        "                    \n",
        "    \n",
        "\n",
        "print(len(colorby))"
      ],
      "execution_count": null,
      "outputs": [
        {
          "output_type": "stream",
          "text": [
            "501\n"
          ],
          "name": "stdout"
        }
      ]
    },
    {
      "cell_type": "code",
      "metadata": {
        "id": "BTQ8HRzJBeLq",
        "colab": {
          "base_uri": "https://localhost:8080/",
          "height": 362
        },
        "outputId": "c558e3eb-0b87-4020-d2e9-24d4c5f9014d"
      },
      "source": [
        "# Let's do t-SNE and PCA to see if anything interesting happens\n",
        "\n",
        "from sklearn.manifold import TSNE\n",
        "from sklearn.decomposition import PCA\n",
        "pca = PCA(n_components=2)\n",
        "\n",
        "X = feat_vec\n",
        "\n",
        "pca_coordsG = pca.fit_transform(X)\n",
        "\n",
        "tsne_coordsG = TSNE(n_components=2,perplexity=30,learning_rate=100).fit_transform(X)\n",
        "\n",
        "colorsG = ['#11ffeb','#ff4911','#ffbd7a', '#7a7aff', '#fd7aff', '#ffff7a']\n",
        "\n",
        "Y = np.array(colorby)\n",
        "print(len(Y))\n",
        "print(len(pca_coordsG))\n",
        "print(len(tsne_coordsG))\n",
        "\n",
        "plt.figure(figsize = (11,4.5))\n",
        "plt.subplot(1,2,1)\n",
        "for c, i, lab in zip(colorsG, [0, 1, 2, 3, 4, 5, 6, 7], gal_classes):\n",
        "    plt.scatter(tsne_coordsG[Y==int(i),0], tsne_coordsG[Y==int(i),1], alpha=0.7, c=c, label=lab)\n",
        "#plt.legend()\n",
        "plt.title('t-sne - galaxies',fontsize=15)\n",
        "plt.axis(\"off\")\n",
        "[i.set_linewidth(0.4) for i in plt.gca().spines.values()]\n",
        "\n",
        "plt.subplot(1,2,2)\n",
        "for c, i, lab in zip(colorsG, [0, 1, 2, 3, 4, 5, 6, 7], gal_classes):\n",
        "    plt.scatter(pca_coordsG[Y==int(i),0], pca_coordsG[Y==int(i),1], alpha=0.7, c=c, label=lab)\n",
        "#plt.legend()\n",
        "plt.title('pca - galaxies',fontsize=15)\n",
        "[i.set_linewidth(0.4) for i in plt.gca().spines.values()]\n",
        "\n",
        "plt.show()"
      ],
      "execution_count": null,
      "outputs": [
        {
          "output_type": "stream",
          "text": [
            "501\n",
            "501\n",
            "501\n"
          ],
          "name": "stdout"
        },
        {
          "output_type": "display_data",
          "data": {
            "image/png": "[encoded data removed]",
            "text/plain": [
              "<Figure size 792x324 with 2 Axes>"
            ]
          },
          "metadata": {
            "tags": []
          }
        }
      ]
    },
    {
      "cell_type": "code",
      "metadata": {
        "id": "FvfBItgaBwYb"
      },
      "source": [
        "#print(X)\n",
        "print(Y)"
      ],
      "execution_count": null,
      "outputs": []
    },
    {
      "cell_type": "markdown",
      "metadata": {
        "id": "TlCuV3Z-RJf6"
      },
      "source": [
        "# Saving CSVs"
      ]
    },
    {
      "cell_type": "code",
      "metadata": {
        "id": "dINTuuEZCQ92"
      },
      "source": [
        "print(len(feat_vec))\n",
        "print(len(my_labels))\n",
        "print(len(colorby))\n",
        "\n",
        "X = np.array(feat_vec)\n",
        "print(X.shape)\n",
        "\n",
        "# Saves feature vector data\n",
        "df = pd.DataFrame(data=X)\n",
        "df.to_csv(\"./X.csv\", sep=',',index=False)\n",
        "\n",
        "# Saves label data\n",
        "df = pd.DataFrame(data=my_labels)\n",
        "df.to_csv(\"./Y.csv\", sep=',',index=False)\n",
        "\n",
        "# Saves color by data\n",
        "df = pd.DataFrame(data=colorby)\n",
        "df.to_csv(\"./colorby.csv\", sep=',',index=False)\n",
        "\n",
        "# Saves gal id data\n",
        "df = pd.DataFrame(data=colorby)\n",
        "df.to_csv(\"./gal_id.csv\", sep=',',index=False)\n"
      ],
      "execution_count": null,
      "outputs": []
    }
  ]
}